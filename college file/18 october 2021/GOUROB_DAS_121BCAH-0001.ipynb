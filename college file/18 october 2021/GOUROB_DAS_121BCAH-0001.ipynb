{
  "cells": [
    {
      "cell_type": "code",
      "execution_count": 1,
      "metadata": {
        "colab": {
          "base_uri": "https://localhost:8080/"
        },
        "id": "uRErvYxIk_hz",
        "outputId": "4aec0c1e-21d9-4dab-e813-a661b2ff28a2"
      },
      "outputs": [
        {
          "name": "stdout",
          "output_type": "stream",
          "text": [
            "I am here to learn \\python\\ programming.\n"
          ]
        }
      ],
      "source": [
        "1. #display the following text:\n",
        "\n",
        "print(\"I am here to learn \\python\\ programming.\")"
      ]
    },
    {
      "cell_type": "code",
      "execution_count": 2,
      "metadata": {
        "colab": {
          "base_uri": "https://localhost:8080/"
        },
        "id": "GqRoH94wmATw",
        "outputId": "b89e5893-041e-4358-9d83-6d5e3b313ed3"
      },
      "outputs": [],
      "source": [
        "2. #Ask a user to enter his name and then print a message:\n",
        "\n",
        "name = input(\"Enter your name: \")\n",
        "print(\"Hi\", name+ \", welcome to this course\")"
      ]
    },
    {
      "cell_type": "code",
      "execution_count": null,
      "metadata": {
        "colab": {
          "base_uri": "https://localhost:8080/"
        },
        "id": "AXXxAWWdnoKh",
        "outputId": "1f92f2e4-2322-48f3-c78e-6b493bc717fb"
      },
      "outputs": [
        {
          "name": "stdout",
          "output_type": "stream",
          "text": [
            "Twinkle, twinkle, little star\n",
            "How I wonder what you are\n",
            "Up above the world so high\n",
            "Like a diamond in the sky\n"
          ]
        }
      ],
      "source": [
        "3. # This is also a coment just like yhe aboe list\n",
        " \n",
        "print('''Twinkle, twinkle, little star\n",
        "How I wonder what you are\n",
        "Up above the world so high\n",
        "Like a diamond in the sky''')"
      ]
    }
  ],
  "metadata": {
    "colab": {
      "name": "Untitled1.ipynb",
      "provenance": []
    },
    "interpreter": {
      "hash": "bb5b68078e918ae51fe3a1caca8633709b7d2665f93cb176fa906ccc0da06ed8"
    },
    "kernelspec": {
      "display_name": "Python 3.10.0 64-bit",
      "name": "python3"
    },
    "language_info": {
      "codemirror_mode": {
        "name": "ipython",
        "version": 3
      },
      "file_extension": ".py",
      "mimetype": "text/x-python",
      "name": "python",
      "nbconvert_exporter": "python",
      "pygments_lexer": "ipython3",
      "version": "3.10.0"
    }
  },
  "nbformat": 4,
  "nbformat_minor": 0
}
