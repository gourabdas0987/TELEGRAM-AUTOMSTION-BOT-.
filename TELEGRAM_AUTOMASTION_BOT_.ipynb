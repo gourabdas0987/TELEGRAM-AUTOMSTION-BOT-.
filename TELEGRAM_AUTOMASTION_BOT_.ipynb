{
  "nbformat": 4,
  "nbformat_minor": 0,
  "metadata": {
    "colab": {
      "name": "TELEGRAM AUTOMASTION BOT .ipynb",
      "provenance": [],
      "collapsed_sections": [],
      "authorship_tag": "ABX9TyMUAZ+sOqDa740CkhHTQrft",
      "include_colab_link": true
    },
    "kernelspec": {
      "name": "python3",
      "display_name": "Python 3"
    },
    "language_info": {
      "name": "python"
    }
  },
  "cells": [
    {
      "cell_type": "markdown",
      "metadata": {
        "id": "view-in-github",
        "colab_type": "text"
      },
      "source": [
        "<a href=\"https://colab.research.google.com/github/gourabdas0987/TELEGRAM-AUTOMSTION-BOT-./blob/main/TELEGRAM_AUTOMASTION_BOT_.ipynb\" target=\"_parent\"><img src=\"https://colab.research.google.com/assets/colab-badge.svg\" alt=\"Open In Colab\"/></a>"
      ]
    },
    {
      "cell_type": "markdown",
      "source": [
        "# *Import the data from the group*"
      ],
      "metadata": {
        "id": "tVeI2Vr3yHJs"
      }
    },
    {
      "cell_type": "code",
      "source": [
        "import requests\n",
        "\n",
        "base_url =\"https://api.telegram.org/bot5319733002:AAGuVY8-I5mtSUx9xTJiT_6obUBqjOaJdN0/getupdates\"\n",
        "\n",
        "parameters = {\n",
        "    \"offset\" : \"179118064\",\n",
        "    \"limit\" : \"3\"\n",
        "}\n",
        "resp = requests.get(base_url, data = parameters)\n",
        "print(resp.text)"
      ],
      "metadata": {
        "colab": {
          "base_uri": "https://localhost:8080/"
        },
        "id": "YsYF-XRDv62x",
        "outputId": "e40306e8-6f20-4e6d-903a-93cad530253f"
      },
      "execution_count": 34,
      "outputs": [
        {
          "output_type": "stream",
          "name": "stdout",
          "text": [
            "{\"ok\":true,\"result\":[{\"update_id\":179118064,\n",
            "\"message\":{\"message_id\":19,\"from\":{\"id\":1483292628,\"is_bot\":false,\"first_name\":\"Gourob\",\"last_name\":\"Das\",\"username\":\"Gourob0099\"},\"chat\":{\"id\":-746280588,\"title\":\"Telegram Automation bot\",\"type\":\"group\",\"all_members_are_administrators\":true},\"date\":1657971342,\"text\":\"?test\"}},{\"update_id\":179118065,\n",
            "\"message\":{\"message_id\":20,\"from\":{\"id\":1483292628,\"is_bot\":false,\"first_name\":\"Gourob\",\"last_name\":\"Das\",\"username\":\"Gourob0099\"},\"chat\":{\"id\":-746280588,\"title\":\"Telegram Automation bot\",\"type\":\"group\",\"all_members_are_administrators\":true},\"date\":1657971354,\"text\":\"/test from bot\",\"entities\":[{\"offset\":0,\"length\":5,\"type\":\"bot_command\"}]}},{\"update_id\":179118066,\n",
            "\"message\":{\"message_id\":21,\"from\":{\"id\":1483292628,\"is_bot\":false,\"first_name\":\"Gourob\",\"last_name\":\"Das\",\"username\":\"Gourob0099\"},\"chat\":{\"id\":-746280588,\"title\":\"Telegram Automation bot\",\"type\":\"group\",\"all_members_are_administrators\":true},\"date\":1657972123,\"text\":\"test from bot 2\"}}]}\n"
          ]
        }
      ]
    }
  ]
}